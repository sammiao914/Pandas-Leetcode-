{
 "cells": [
  {
   "cell_type": "markdown",
   "metadata": {},
   "source": [
    "### Pandas covert data to data frame with columns option "
   ]
  },
  {
   "cell_type": "code",
   "execution_count": 4,
   "metadata": {},
   "outputs": [
    {
     "name": "stdout",
     "output_type": "stream",
     "text": [
      "   student_id  age\n",
      "0           1   15\n",
      "1           2   11\n",
      "2           3   11\n",
      "3           4   20\n"
     ]
    }
   ],
   "source": [
    "from typing import List\n",
    "import pandas as pd \n",
    "\n",
    "def createDataframe(student_data: List[List[int]]) -> pd.DataFrame:\n",
    "    df = pd.DataFrame(data = student_data, columns = [\"student_id\",\"age\"])\n",
    "    return df \n",
    "student_id = [\n",
    "  [1, 15],\n",
    "  [2, 11],\n",
    "  [3, 11],\n",
    "  [4, 20]\n",
    "]\n",
    "print(createDataframe(student_id))"
   ]
  }
 ],
 "metadata": {
  "kernelspec": {
   "display_name": "Python 3",
   "language": "python",
   "name": "python3"
  },
  "language_info": {
   "codemirror_mode": {
    "name": "ipython",
    "version": 3
   },
   "file_extension": ".py",
   "mimetype": "text/x-python",
   "name": "python",
   "nbconvert_exporter": "python",
   "pygments_lexer": "ipython3",
   "version": "3.12.8"
  }
 },
 "nbformat": 4,
 "nbformat_minor": 2
}
